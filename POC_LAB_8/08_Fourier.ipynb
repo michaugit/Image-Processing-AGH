{
 "cells": [
  {
   "cell_type": "markdown",
   "metadata": {
    "pycharm": {
     "name": "#%% md\n"
    }
   },
   "source": [
    "# Transformata Fouriera dla obrazów cyfrowych. Filtracja w dziedzinie częstotliwości."
   ]
  },
  {
   "cell_type": "markdown",
   "metadata": {
    "pycharm": {
     "name": "#%% md\n"
    }
   },
   "source": [
    "## Cel ćwiczenia\n",
    "\n",
    "- Zapoznanie z wykorzystaniem transformaty Fouriera w przetwarzaniu obrazów cyfrowych.\n",
    "- Zapoznanie z pojęciem F-obrazu (amplitudy i fazy).\n",
    "- Zapoznanie z własnościami transformaty Fouriera.\n",
    "- Zapoznanie z filtracją w dziedzinie częstotliwości.\n",
    "\n",
    "Na jednym z poprzednich ćwiczeń zetknęliśmy się z pojęciem konwolucji.\n",
    "Przykładem może być filtracja dolno i górnoprzepustowa.\n",
    "Operacja ta odpowiada mnożeniu w dziedzinie częstotliwości zgodnie z zależnością:<br>\n",
    "\\begin{equation}\n",
    "\\mathcal{F}(g(x,y)*h(x,y)) = \\mathcal{F}(g(x,y)) \\cdot \\mathcal{F}(h(x,y))\n",
    "\\end{equation}<br>\n",
    "gdzie $\\mathcal{F}$ oznacza transformatę Fouriera, a $*$ jest splotem.\n",
    "\n",
    "Operacja filtracji w dziedzinie częstotliwości może okazać się bardziej efektywna, jeżeli operacje fft2 i ifft2 zajmą mniej czasu niż klasyczna konwolucja (zazwyczaj dla dużego obrazu, z dużą maską).\n",
    "\n",
    "Sama filtracja w dziedzinie częstotliwości to mnożenie całego obrazu przez jedną maskę.\n",
    "\n",
    "W przypadku filtracji w dziedzinie częstotliwości zakłada się, że obraz \"zawija się\" na brzegach, co może powodować pewne artefakty.\n",
    "\n",
    "W dziedzinie częstotliwości \"działają\" tylko filtry określane jako liniowe.\n",
    "Filtry medianowe, maksymalne, minimalne itp. nie mają swoich odpowiedników."
   ]
  },
  {
   "cell_type": "markdown",
   "metadata": {
    "pycharm": {
     "name": "#%% md\n"
    }
   },
   "source": [
    "## Dwuwymiarowa transformata Fouriera\n",
    "\n",
    "1. Wczytaj plik \"dwieFale.bmp\" w skali szarości.\n",
    "Jest to obraz powstały na podstawie następującej zależności:<br>\n",
    "\\begin{equation}\n",
    "L(m, n) = 128 + 127 \\cdot \\cos(\\frac{2\\pi m}{32}+\\frac{3\\pi}{4}) \\cdot \\cos(\\frac{2\\pi n}{8}-\\frac{\\pi}{2})\n",
    "\\end{equation}<br>\n",
    "gdzie $m$ i $n$ są odpowiednio numerami wierszy i kolumn.\n",
    "2. Do realizacji dwuwymiarowej transformaty Fouriera służy funkcja `cv2.dft`.\n",
    "Wykonaj transformatę na wczytanym obrazie. W ten sposób uzyskuje się tzw. F-obraz.\n",
    "3. Najniższe częstotliwości znajdują się w lewym-górnym rogu obrazu.\n",
    "Dla celów wizualizacji często wykonuje się tzw. przesunięcie F-obrazu, które przesuwa niskie częstotliwości do środka.\n",
    "Wykorzystaj funkcję `np.fft.fftshift`.\n",
    "Jako pierwszy argument podaj wynik transformaty Fouriera.\n",
    "Jako drugi argument podaj numery osi, wzdłuż których należy wykonać operację.\n",
    "Pierwsza oś odnosi się do wierszy obrazu.\n",
    "Druga oś odnosi się do kolumn obrazu.\n",
    "Trzecia oś to część rzeczywista (`[:, :, 0]`) lub urojona (`[:, :, 1]`)\n",
    "4. Wyświetl wynik transformaty.\n",
    "Na wspólnym wykresie umieść obraz oryginalny, amplitudę i fazę F-obrazu.\n",
    "Amplitudę i fazę wyznacz za pomocą funkcji `cv2.cartToPolar`.\n",
    "Pierwszym argumentem funkcji jest część rzeczywista wyniku, a drugim urojona.\n",
    "5. Dla wizualizacji oblicz logarytm dziesiętny amplitudy: `ALog = np.log10(A + 1)`.\n",
    "Wyświetl go zamiast amplitudy na poprzednim wykresie.\n",
    "6. Wczytaj obrazy *kolo.bmp*, *kwadrat.bmp*, *kwadrat45.bmp*, *trojkat.bmp*.\n",
    "Czy analizując F-obraz można coś powiedzieć o kierunku krawędzi obiektów?\n",
    "7. Sprawdź (empirycznie) poprawność stwierdzenia:\n",
    ">Dwuwymiarowa transformata Fouriera jest złożeniem dwóch transformat jednowymiarowych (wykonanych np. najpierw wierszowo, a później kolumnowo). Jednowymiarowa transformata realizowana jest za pomocą funkcji fft.\n",
    ">\n",
    "Wykonaj najpierw transformatę po wierszach: `FRow = np.fft.fft(I, axis=0)`.\n",
    "Następnie po kolumnach: `FCol = np.fft.fft(I, axis=1)`.\n",
    "Porównaj tak uzyskany wynik z rezultatem działania funkcji `cv2.dft`.\n",
    "Można to zrobić wizualnie lub z wykorzystaniem funkcji `cv2.absdiff`."
   ]
  },
  {
   "cell_type": "code",
   "execution_count": null,
   "metadata": {},
   "outputs": [],
   "source": [
    "def get_dft(image):\n",
    "    f_obraz = cv2.dft(np.float32(image), flags = cv2.DFT_COMPLEX_OUTPUT)\n",
    "    re_part = np.fft.fftshift(f_obraz[:, :, 0])\n",
    "    img_part = np.fft.fftshift(f_obraz[:, :, 1])\n",
    "    A, F = cv2.cartToPolar(re_part, img_part)\n",
    "    Alog = np.log10(A + 1)\n",
    "    return [A, Alog, F]"
   ]
  },
  {
   "cell_type": "code",
   "execution_count": null,
   "metadata": {
    "collapsed": false,
    "jupyter": {
     "outputs_hidden": false
    },
    "pycharm": {
     "name": "#%% Zadanie 1 - wyświetlanie\n"
    }
   },
   "outputs": [],
   "source": [
    "import cv2\n",
    "from matplotlib import pyplot as plt\n",
    "import numpy as np\n",
    "import math\n",
    "import os\n",
    "\n",
    "# Load required files\n",
    "if not os.path.exists(\"dwieFale.bmp\") :\n",
    "    !wget https://raw.githubusercontent.com/vision-agh/poc_sw/master/08_Fourier/dwieFale.bmp --no-check-certificate\n",
    "if not os.path.exists(\"kolo.bmp\") :\n",
    "    !wget https://raw.githubusercontent.com/vision-agh/poc_sw/master/08_Fourier/kolo.bmp --no-check-certificate\n",
    "if not os.path.exists(\"kwadrat.bmp\") :\n",
    "    !wget https://raw.githubusercontent.com/vision-agh/poc_sw/master/08_Fourier/kwadrat.bmp --no-check-certificate\n",
    "if not os.path.exists(\"kwadrat45.bmp\") :\n",
    "    !wget https://raw.githubusercontent.com/vision-agh/poc_sw/master/08_Fourier/kwadrat45.bmp --no-check-certificate\n",
    "if not os.path.exists(\"kwadratKL.bmp\") :\n",
    "    !wget https://raw.githubusercontent.com/vision-agh/poc_sw/master/08_Fourier/kwadratKL.bmp --no-check-certificate\n",
    "if not os.path.exists(\"kwadratS.bmp\") :\n",
    "    !wget https://raw.githubusercontent.com/vision-agh/poc_sw/master/08_Fourier/kwadratS.bmp --no-check-certificate\n",
    "if not os.path.exists(\"kwadratT.bmp\") :\n",
    "    !wget https://raw.githubusercontent.com/vision-agh/poc_sw/master/08_Fourier/kwadratT.bmp --no-check-certificate\n",
    "if not os.path.exists(\"lena.bmp\") :\n",
    "    !wget https://raw.githubusercontent.com/vision-agh/poc_sw/master/08_Fourier/lena.bmp --no-check-certificate\n",
    "if not os.path.exists(\"trojkat.bmp\") :\n",
    "    !wget https://raw.githubusercontent.com/vision-agh/poc_sw/master/08_Fourier/trojkat.bmp --no-check-certificate\n",
    "\n",
    "\n",
    "I_Fale = cv2.imread('dwieFale.bmp', cv2.IMREAD_GRAYSCALE)\n",
    "plt.gray() \n",
    "\n",
    "\n",
    "magnitude, Alog, angle =  get_dft(I_Fale)\n",
    "\n",
    "\n",
    "\n",
    "\n",
    "figFale, axsFale = plt.subplots(1,3,figsize=(15,15))\n",
    "\n",
    "axsFale[0].imshow(I_Fale, 'gray', vmin=0, vmax=256)\n",
    "axsFale[0].axis('off')\n",
    "axsFale[1].imshow(magnitude, 'gray')\n",
    "axsFale[1].axis('off')\n",
    "axsFale[2].imshow(angle, 'gray')\n",
    "axsFale[2].axis('off')\n",
    "\n",
    "\n",
    "figFale2, axsFale2 = plt.subplots(1,3,figsize=(15,15))\n",
    "\n",
    "axsFale2[0].imshow(I_Fale, 'gray', vmin=0, vmax=256)\n",
    "axsFale2[0].axis('off')\n",
    "axsFale2[1].imshow(Alog, 'gray')\n",
    "axsFale2[1].axis('off')\n",
    "axsFale2[2].imshow(angle, 'gray')\n",
    "axsFale2[2].axis('off')\n",
    "\n"
   ]
  },
  {
   "cell_type": "code",
   "execution_count": null,
   "metadata": {
    "collapsed": false,
    "jupyter": {
     "outputs_hidden": false
    },
    "pycharm": {
     "name": "#%% Zadanie 1 - FFT2\n"
    }
   },
   "outputs": [],
   "source": [
    "kolo = cv2.imread('kolo.bmp', cv2.IMREAD_GRAYSCALE)\n",
    "kwadrat = cv2.imread('kwadrat.bmp', cv2.IMREAD_GRAYSCALE)\n",
    "kwadrat45 = cv2.imread('kwadrat45.bmp', cv2.IMREAD_GRAYSCALE)\n",
    "trojkat = cv2.imread('trojkat.bmp', cv2.IMREAD_GRAYSCALE)\n",
    "plt.gray() \n",
    "\n",
    "\n",
    "f, tab = plt.subplots(4,3,figsize=(15,15))\n",
    "\n",
    "kolo_A, kolo_Alog, kolo_F = get_dft(kolo)\n",
    "tab[0,0].imshow(kolo, 'gray')\n",
    "tab[0,1].imshow(kolo_Alog, 'gray')\n",
    "tab[0,2].imshow(kolo_F, 'gray')\n",
    "tab[0,0].axis('off')\n",
    "tab[0,1].axis('off')\n",
    "tab[0,2].axis('off')\n",
    "tab[0,0].set_title(\"org\")\n",
    "tab[0,1].set_title(\"Amplituda\")\n",
    "tab[0,2].set_title(\"Faza\")\n",
    "\n",
    "kwadrat_A, kwadrat_Alog, kwadrat_F = get_dft(kwadrat)\n",
    "tab[1,0].imshow(kwadrat, 'gray')\n",
    "tab[1,0].axis('off')\n",
    "tab[1,1].imshow(kwadrat_Alog, 'gray')\n",
    "tab[1,1].axis('off')\n",
    "tab[1,2].imshow(kwadrat_F, 'gray')\n",
    "tab[1,2].axis('off')\n",
    "tab[1,0].set_title(\"org\")\n",
    "tab[1,1].set_title(\"Amplituda\")\n",
    "tab[1,2].set_title(\"Faza\")\n",
    "\n",
    "kwadrat45_A, kwadrat45_Alog, kwadrat45_F = get_dft(kwadrat45)\n",
    "tab[2,0].imshow(kwadrat45, 'gray')\n",
    "tab[2,0].axis('off')\n",
    "tab[2,1].imshow(kwadrat45_Alog, 'gray')\n",
    "tab[2,1].axis('off')\n",
    "tab[2,2].imshow(kwadrat45_F, 'gray')\n",
    "tab[2,2].axis('off')\n",
    "tab[2,0].set_title(\"org\")\n",
    "tab[2,1].set_title(\"Amplituda\")\n",
    "tab[2,2].set_title(\"Faza\")\n",
    "\n",
    "trojkat_A, trojkat_Alog, trojkat_F = get_dft(trojkat)\n",
    "tab[3,0].imshow(trojkat, 'gray')\n",
    "tab[3,0].axis('off')\n",
    "tab[3,1].imshow(trojkat_Alog, 'gray')\n",
    "tab[3,1].axis('off')\n",
    "tab[3,2].imshow(trojkat_F, 'gray')\n",
    "tab[3,2].axis('off')\n",
    "tab[3,0].set_title(\"org\")\n",
    "tab[3,1].set_title(\"Amplituda\")\n",
    "tab[3,2].set_title(\"Faza\")"
   ]
  },
  {
   "cell_type": "code",
   "execution_count": null,
   "metadata": {},
   "outputs": [],
   "source": [
    "Img = np.fft.fft2(kolo)\n",
    "Img2 = np.fft.fft(np.fft.fft(kolo, axis=0), axis=1)\n",
    "\n",
    "print(Img)\n",
    "print(Img2)"
   ]
  },
  {
   "cell_type": "markdown",
   "metadata": {
    "pycharm": {
     "name": "#%% md\n"
    }
   },
   "source": [
    "## Własności dwuwymiarowej transformaty Fouriera\n",
    "\n",
    "1. Zbadaj jak zmienia się F-obraz (amplituda i faza) podczas następujących operacji: translacja, rotacja, zmiana rozmiaru, kombinacja liniowa.\n",
    "Wykorzystaj stworzony wcześniej kod.\n",
    "2. Do badania translacji wykorzystaj obrazy *kwadrat.bmp* i *kwadratT.bmp*.\n",
    "3. Przy badaniu rotacji wykorzystaj obrazy *kwadrat.bmp* i *kwadrat45.bmp*.\n",
    "4. Przy badaniu zmiany rozmiaru wykorzystaj obrazy *kwadrat.bmp* i *kwadratS.bmp*.\n",
    "5. Przy badaniu kombinacji liniowej wykorzystaj obrazy *kwadrat.bmp*, *kwadrat45.bmp* i *kwadratKL.bmp*."
   ]
  },
  {
   "cell_type": "code",
   "execution_count": null,
   "metadata": {
    "collapsed": false,
    "jupyter": {
     "outputs_hidden": false
    },
    "pycharm": {
     "name": "#%% Zadanie 2 - własności\n"
    }
   },
   "outputs": [],
   "source": [
    "def translacja(img):\n",
    "    n_rows, n_cols = img.shape[:2]\n",
    "    m = np.float32([[1,0,70], [0,1,110]])\n",
    "    translationImg = cv2.warpAffine(img, m, (n_cols, n_rows))\n",
    "    return translationImg\n",
    "\n",
    "\n",
    "kwadratT = cv2.imread('kwadratT.bmp', cv2.IMREAD_GRAYSCALE)\n",
    "\n",
    "\n",
    "T1=translacja(kwadrat)\n",
    "T2=translacja(kwadratT)\n",
    "\n",
    "\n",
    "\n",
    "f, tab = plt.subplots(2,3,figsize=(15,15))\n",
    "\n",
    "t1A, t1Alog, t1F = get_dft(T1)\n",
    "tab[0,0].imshow(T1)\n",
    "tab[0,1].imshow(t1Alog)\n",
    "tab[0,2].imshow(t1F)\n",
    "\n",
    "t2A, t2Alog, t2F = get_dft(T2)\n",
    "tab[1,0].imshow(T2)\n",
    "tab[1,1].imshow(t2Alog)\n",
    "tab[1,2].imshow(t2F)"
   ]
  },
  {
   "cell_type": "code",
   "execution_count": null,
   "metadata": {},
   "outputs": [],
   "source": [
    "kwadrat45 = cv2.imread('kwadrat45.bmp', cv2.IMREAD_GRAYSCALE)\n",
    "r1=np.rot90(kwadrat)\n",
    "r2=np.rot90(kwadrat45)\n",
    "\n",
    "\n",
    "f, tab = plt.subplots(2,3,figsize=(15,15))\n",
    "\n",
    "r1A, r1Alog, r1F = get_dft(r1)\n",
    "tab[0,0].imshow(r1)\n",
    "tab[0,1].imshow(r1Alog)\n",
    "tab[0,2].imshow(r1F)\n",
    "\n",
    "r2A, r2Alog, r2F = get_dft(r2)\n",
    "tab[1,0].imshow(r2)\n",
    "tab[1,1].imshow(r2Alog)\n",
    "tab[1,2].imshow(r2F)"
   ]
  },
  {
   "cell_type": "code",
   "execution_count": null,
   "metadata": {},
   "outputs": [],
   "source": [
    "def resize(src,scale = 50):\n",
    "    width = int(src.shape[1] * scale / 100)\n",
    "    height = int(src.shape[0] * scale / 100)\n",
    "    dsize = (width, height)\n",
    "    return cv2.resize(src, dsize)\n",
    "\n",
    "kwadratS = cv2.imread('kwadratS.bmp', cv2.IMREAD_GRAYSCALE)\n",
    "r1=resize(kwadrat)\n",
    "r2=resize(kwadratS)\n",
    "\n",
    "\n",
    "f, tab = plt.subplots(2,3,figsize=(15,15))\n",
    "\n",
    "r1A, r1Alog, r1F = get_dft(r1)\n",
    "tab[0,0].imshow(r1)\n",
    "tab[0,1].imshow(r1Alog)\n",
    "tab[0,2].imshow(r1F)\n",
    "\n",
    "r2A, r2Alog, r2F = get_dft(r2)\n",
    "tab[1,0].imshow(r2)\n",
    "tab[1,1].imshow(r2Alog)\n",
    "tab[1,2].imshow(r2F)\n",
    "\n"
   ]
  },
  {
   "cell_type": "code",
   "execution_count": null,
   "metadata": {},
   "outputs": [],
   "source": [
    "kwadrat45 = cv2.imread('kwadrat45.bmp', cv2.IMREAD_GRAYSCALE)\n",
    "kwadratKL = cv2.imread('kwadratKL.bmp', cv2.IMREAD_GRAYSCALE)\n",
    "\n",
    "l1 = cv2.addWeighted(kwadrat,0.8,kwadrat45,0.2,0)\n",
    "l2 = cv2.addWeighted(kwadrat,0.8,kwadratKL,0.2,0)\n",
    "\n",
    "\n",
    "f, tab = plt.subplots(2,3,figsize=(15,15))\n",
    "\n",
    "l1A, l1Alog, l1F = get_dft(l1)\n",
    "tab[0,0].imshow(l1)\n",
    "tab[0,1].imshow(l1Alog)\n",
    "tab[0,2].imshow(l1F)\n",
    "\n",
    "l2A, l2Alog, l2F = get_dft(l2)\n",
    "tab[1,0].imshow(l2)\n",
    "tab[1,1].imshow(l2Alog)\n",
    "tab[1,2].imshow(l2F)\n"
   ]
  },
  {
   "cell_type": "markdown",
   "metadata": {
    "pycharm": {
     "name": "#%% md\n"
    }
   },
   "source": [
    "## Odwrotna dwuwymiarowa transformata Fouriera\n",
    "\n",
    "1. Wykorzystaj stworzony wcześniej kod. Wybierz dowolny obraz np \"kolo.bmp\".\n",
    "2. Przed realizacją odwrotnego przekszałcenia należy wykonać odwrotne przesunięcie.\n",
    "Wykorzystaj funkcję `np.fft.ifftshift`.\n",
    "Pierwszym argumentem jest wynik transformaty Fouriera.\n",
    "Drugim argumentem są numery osi, wzdłuż których należy wykonać operację.\n",
    "3. Wykonaj odwrotną transformatę Fouriera za pomocą funkcji `cv2.idft`.\n",
    "4. Wyświetl wynik.\n",
    "Sprawdź (wizualnie i poprzez odjęcie) czy obraz oryginalny i po przekształceniach są takie same."
   ]
  },
  {
   "cell_type": "code",
   "execution_count": null,
   "metadata": {
    "collapsed": false,
    "jupyter": {
     "outputs_hidden": false
    },
    "pycharm": {
     "name": "#%% Zadanie 3 - odwrotna\n"
    }
   },
   "outputs": [],
   "source": [
    "def get_idft(img):\n",
    "    dft = cv2.dft(np.float32(img),flags = cv2.DFT_COMPLEX_OUTPUT)\n",
    "    f_ishift = np.fft.ifftshift(np.fft.fftshift(dft))\n",
    "    img_back = cv2.idft(f_ishift)\n",
    "    img_back = cv2.magnitude(img_back[:,:,0],img_back[:,:,1])\n",
    "    return img_back\n",
    "\n",
    "kolo_f=get_idft(kolo)\n",
    "kolo_f = cv2.normalize(kolo_f, None, 0, 255, cv2.NORM_MINMAX, cv2.CV_8U)\n",
    "\n",
    "sub= cv2.subtract(kolo, kolo_f, dtype=cv2.CV_8U)\n",
    "\n",
    "f, tab= plt.subplots(1,3,figsize=(15,15))\n",
    "tab[0].imshow(kolo)\n",
    "tab[1].imshow(kolo_f)\n",
    "tab[2].imshow(sub)\n"
   ]
  },
  {
   "cell_type": "markdown",
   "metadata": {
    "pycharm": {
     "name": "#%% md\n"
    }
   },
   "source": [
    "## Filtracja obrazu w dziedzinie częstotliwości\n",
    "\n",
    "1. Wczytaj obraz \"lena.bmp\" w skali szarości.\n",
    "Wykonaj transformatę Fouriera. Wykorzystaj stworzony poprzednio kod.\n",
    "Wyświetl obraz oryginalny, amplitudę (w skali logarytmicznej) i fazę.\n",
    "2. Przeprowadź filtrację dolnoprzepustową - usuń górne częstotliwości.\n",
    "Dla przesuniętego F-obrazu niskie częstotliwości leżą w jego centrum.\n",
    "3. Na początku stwórz filtr \"kołowy\", dolnoprzepustowy.\n",
    "Należy wykenerować macierze opisujące przestrzeń w dziedzinie częstotliwości.\n",
    "Ich rozmiar musi być taki sam jak rozmiar przetwarzanego obrazu.\n",
    "        lenaSize = I_Lena.shape\n",
    "        FSpaceRows = 2 * np.fft.fftshift(np.fft.fftfreq(lenaSize[0]))\n",
    "        FSpaceRowsM = np.outer(FSpaceRows, np.ones([1, lenaSize[1]]))\n",
    "        FSpaceCols = 2 * np.fft.fftshift(np.fft.fftfreq(lenaSize[1]))\n",
    "        FSpaceColsM = np.outer(np.ones([1, lenaSize[0]]), FSpaceCols)\n",
    "Powyższy kod wygeneruje dwie znormalizowane macierze częstotliwości: *FSpaceRowsM* i *FSpaceColsM*.\n",
    "Następnie należy wyznaczyć macierz zawierającą \"odległość\" od składowej stałej.\n",
    "        FreqR = np.sqrt(np.square(FSpaceRowsM) + np.square(FSpaceColsM))\n",
    "4. Teraz należy wybrać interesujący zakres.\n",
    "Tu można zdefiniować typ filtru (dolno, górno, pasmowoprzepustowy).\n",
    "        FilterF = FreqR <= 0.1\n",
    "Filtr należy zwizualizować:\n",
    "        figFilter = plt.figure()\n",
    "        axsFilter = figFilter.add_subplot(projection='3d')\n",
    "        axsFilter.plot_surface(FSpaceRowsM, FSpaceColsM, FilterF, rstride=1, cstride=1, cmap=plt.get_cmap('gray'), linewidth=0)\n",
    "        figFilter.show()\n",
    "4. Wykonaj właściwą filtrację, czyli mnożenie F-obrazu przez filtr Hd.\n",
    "Trzeba pamiętać, że F-obraz ma 2 kanały.\n",
    "By mnożenie było możliwe należy więc powielić filtr również na 2 kanały.\n",
    "        FilterF3 = np.repeat(FilterF[:, :, np.newaxis], 2, axis=2)\n",
    "5. Wykonaj operację odwrotnego przesunięcia i odwrotnej transformaty.\n",
    "Oblicz wartość bezwzględną wyniku. Wykorzystaj funkcję `cv2.magnitude`.\n",
    "Pierwszym argementem jest część rzeczywista.\n",
    "Drugim argumentem jest część urojona.\n",
    "Wynik wyświetl.\n",
    "6. Poeksperymentuj z rozmiarem filtru (promieniem).\n",
    "Zaimplementuj filtr górnoprzepustowy (zmiana znaku przy warunku na odległość) oraz pasmowoprzepustowy (dwa warunki na promień połączone operatorem AND '&' ).\n",
    "Wykonaj co najmniej trzy filtry i wyświetl wyniki.\n",
    "7. W ten sposób zaimplementowana filtracja wprowadza pewne artefakty w postaci \"pierścieni\" wokół krawędzi.\n",
    "Zapobiec temu zjawisku można zapobiec odpowiednio \"modelując\" filtr.\n",
    "W tym celu wykorzystać należy okna, np. Hamminga, Hanninga, Chebysheva (znane z przetwarzania sygnałów 1D)."
   ]
  },
  {
   "cell_type": "code",
   "execution_count": null,
   "metadata": {
    "pycharm": {
     "name": "#%% Zadanie 4 - filtracja\n"
    }
   },
   "outputs": [],
   "source": [
    "if not os.path.exists(\"lena.bmp\") :\n",
    "    !wget https://raw.githubusercontent.com/vision-agh/poc_sw/master/08_Fourier/lena.bmp --no-check-certificate\n",
    "\n",
    "lena = cv2.imread('lena.bmp', cv2.IMREAD_GRAYSCALE)\n",
    "plt.gray()\n",
    "\n",
    "f, tab= plt.subplots(1,3,figsize=(15,15))\n",
    "lenaA, lenaAlog, lenaF = get_dft(lena)\n",
    "tab[0].imshow(lena)\n",
    "tab[1].imshow(lenaAlog)\n",
    "tab[2].imshow(lenaF)\n",
    "tab[0].axis('off')\n",
    "tab[1].axis('off')\n",
    "tab[2].axis('off')\n",
    "\n",
    "\n",
    "lenaSize = lena.shape\n",
    "FSpaceRows = 2 * np.fft.fftshift(np.fft.fftfreq(lenaSize[0]))\n",
    "FSpaceRowsM = np.outer(FSpaceRows, np.ones([1, lenaSize[1]]))\n",
    "FSpaceCols = 2 * np.fft.fftshift(np.fft.fftfreq(lenaSize[1]))\n",
    "FSpaceColsM = np.outer(np.ones([1, lenaSize[0]]), FSpaceCols)\n",
    "\n",
    "FreqR = np.sqrt(np.square(FSpaceRowsM) + np.square(FSpaceColsM))\n",
    "\n",
    "FilterF = FreqR <= 0.1\n",
    "\n",
    "figFilter = plt.figure()\n",
    "axsFilter = figFilter.add_subplot(projection='3d')\n",
    "axsFilter.plot_surface(FSpaceRowsM, FSpaceColsM, FilterF, rstride=1, cstride=1, cmap=plt.get_cmap('gray'), linewidth=0)\n",
    "# figFilter.show()\n",
    "\n",
    "FilterF3 = np.repeat(FilterF[:, :, np.newaxis], 2, axis=2)"
   ]
  },
  {
   "cell_type": "code",
   "execution_count": null,
   "metadata": {},
   "outputs": [],
   "source": [
    "dft = cv2.dft(np.float32(lena),flags = cv2.DFT_COMPLEX_OUTPUT)\n",
    "shifted=np.fft.fftshift(dft)\n",
    "\n",
    "shifted_f = shifted * FilterF3\n",
    "\n",
    "f_ishift = np.fft.ifftshift(shifted_f)\n",
    "img_back = abs(cv2.idft(f_ishift))\n",
    "\n",
    "img_back = cv2.magnitude(img_back[:,:,0],img_back[:,:,1])\n",
    "\n",
    "plt.imshow(img_back)"
   ]
  },
  {
   "cell_type": "code",
   "execution_count": null,
   "metadata": {},
   "outputs": [],
   "source": [
    "lenaSize = lena.shape\n",
    "FSpaceRows = 2 * np.fft.fftshift(np.fft.fftfreq(lenaSize[0]))\n",
    "FSpaceRowsM = np.outer(FSpaceRows, np.ones([1, lenaSize[1]]))\n",
    "FSpaceCols = 2 * np.fft.fftshift(np.fft.fftfreq(lenaSize[1]))\n",
    "FSpaceColsM = np.outer(np.ones([1, lenaSize[0]]), FSpaceCols)\n",
    "\n",
    "FreqR = np.sqrt(np.square(FSpaceRowsM) + np.square(FSpaceColsM))\n",
    "\n",
    "FilterF = FreqR >= 0.1\n",
    "\n",
    "figFilter = plt.figure()\n",
    "axsFilter = figFilter.add_subplot(projection='3d')\n",
    "axsFilter.plot_surface(FSpaceRowsM, FSpaceColsM, FilterF, rstride=1, cstride=1, cmap=plt.get_cmap('gray'), linewidth=0)\n",
    "# figFilter.show()\n",
    "\n",
    "FilterF3 = np.repeat(FilterF[:, :, np.newaxis], 2, axis=2)"
   ]
  },
  {
   "cell_type": "code",
   "execution_count": null,
   "metadata": {},
   "outputs": [],
   "source": [
    "dft = cv2.dft(np.float32(lena),flags = cv2.DFT_COMPLEX_OUTPUT)\n",
    "shifted=np.fft.fftshift(dft)\n",
    "\n",
    "shifted_f = shifted * FilterF3\n",
    "\n",
    "f_ishift = np.fft.ifftshift(shifted_f)\n",
    "img_back = abs(cv2.idft(f_ishift))\n",
    "\n",
    "img_back = cv2.magnitude(img_back[:,:,0],img_back[:,:,1])\n",
    "\n",
    "plt.imshow(img_back)"
   ]
  },
  {
   "cell_type": "code",
   "execution_count": null,
   "metadata": {},
   "outputs": [],
   "source": [
    "lenaSize = lena.shape\n",
    "FSpaceRows = 2 * np.fft.fftshift(np.fft.fftfreq(lenaSize[0]))\n",
    "FSpaceRowsM = np.outer(FSpaceRows, np.ones([1, lenaSize[1]]))\n",
    "FSpaceCols = 2 * np.fft.fftshift(np.fft.fftfreq(lenaSize[1]))\n",
    "FSpaceColsM = np.outer(np.ones([1, lenaSize[0]]), FSpaceCols)\n",
    "\n",
    "FreqR = np.sqrt(np.square(FSpaceRowsM) + np.square(FSpaceColsM))\n",
    "\n",
    "FilterF = ((FreqR >= 0.1) & (FreqR <= 0.2))\n",
    "\n",
    "figFilter = plt.figure()\n",
    "axsFilter = figFilter.add_subplot(projection='3d')\n",
    "axsFilter.plot_surface(FSpaceRowsM, FSpaceColsM, FilterF, rstride=1, cstride=1, cmap=plt.get_cmap('gray'), linewidth=0)\n",
    "# figFilter.show()\n",
    "\n",
    "FilterF3 = np.repeat(FilterF[:, :, np.newaxis], 2, axis=2)"
   ]
  },
  {
   "cell_type": "code",
   "execution_count": null,
   "metadata": {},
   "outputs": [],
   "source": [
    "dft = cv2.dft(np.float32(lena),flags = cv2.DFT_COMPLEX_OUTPUT)\n",
    "shifted=np.fft.fftshift(dft)\n",
    "\n",
    "shifted_f = shifted * FilterF3\n",
    "\n",
    "f_ishift = np.fft.ifftshift(shifted_f)\n",
    "img_back = abs(cv2.idft(f_ishift))\n",
    "\n",
    "img_back = cv2.magnitude(img_back[:,:,0],img_back[:,:,1])\n",
    "\n",
    "plt.imshow(img_back)"
   ]
  },
  {
   "cell_type": "markdown",
   "metadata": {
    "pycharm": {
     "name": "#%% md\n"
    }
   },
   "source": [
    "## Implementacja wyszukiwania wzorca za pomocą FFT\n",
    "\n",
    "1. Wczytaj w skalis szarości i wyświetl obrazy *literki.bmp* i *wzorA.bmp*.\n",
    "2. Wyznacz transformatę Fouriera obrazu *literki.bmp*.\n",
    "3. Obróć drugi obraz o $180^\\circ$.\n",
    "Zastosuj funkcję `np.rot90`.\n",
    "Pierwszym argumentem jest obracana macierz, a drugim liczba obrotów o $90^\\circ$.\n",
    "4. Należy wyznaczyć transformatę Fouriera obróconego obrazu w taki sposób, żeby miałą ona taki sam rozmiar jak pierwszy obraz.\n",
    "W tym celu należy zastosować *Zero Padding*.\n",
    "Operacja ta polega na uzupełnieniu obrazu zerami do oczekiwanego rozmiaru.\n",
    "Uzupełnij obraz zerami z **prawej** strony i z **dołu**.\n",
    "W tym celu należy wykorzystać funkcję `cv2.copyMakeBorder`.\n",
    "    - Pierwszym argumentem jest obraz wejściowy.\n",
    "    - Drugim argumentem jest liczba wierszy u góry.\n",
    "    - Trzecim argumentem jest liczba wierszy u dołu.\n",
    "    - Czwartym argumentem jest liczba kolumn z lewej.\n",
    "    - Piątym argumentem jest liczba kolumn z prawej.\n",
    "    - Szóstym argumentem jest flaga typu wypełnienia.\n",
    "    Dla stałej wartości podaj `cv2.BORDER_CONSTANT`.\n",
    "    - Siódmym argementem jest wartość pikseli w ramce.\n",
    "    Przekaż `value=0`.\n",
    "5. Wyznacz transformatę Fouriera obrazu stworzonego w poprzednim punkcie.\n",
    "6. Wyniki obu transformat należy przekonwertować do liczb zespolonych.\n",
    "Obecnie jest to dwukanałowa macierz.\n",
    "Pierwszy kanał odpowiada za część rzeczywistą.\n",
    "Drugi kanał odpowiada za część urojoną.\n",
    "Aby to osiągnąć wystarczy wykonać działanie:\n",
    "        Complex = Real + Imag * 1j\n",
    "7. Przemnóż ze sobą zespolone wyniki transformat.\n",
    "8. Wynik należy powrotnie przekształcić do dwukanałowej macierzy.\n",
    "Aby to zrobić wykonaj operację:\n",
    "        CompMat = cv2.merge([np.real(Complex), np.imag(Complex)])\n",
    "9. Wykonaj odwroną transformatę Fouriera.\n",
    "Dodaj flagę `flags=cv2.DFT_COMPLEX_INPUT`.\n",
    "10. Oblicz wartość bezwzględną wyniku.\n",
    "11. Wykonaj morfologiczną operację **Top-Hat**, by znaleźć maksima.\n",
    "Operacja ta zostanie dokłądniej wyjaśniona w kolejnym ćwiczenia.\n",
    "W tym celu wykorzystaj operację:\n",
    "        cv2.morphologyEx(correlation, cv2.MORPH_TOPHAT, np.ones((3, 3), np.uint8))\n",
    "12. Wyświetl obok siebie obraz wejściowy i wynik wykonanych operacji.\n",
    "Czy możesz wskazać położenie wzoru na podstawie drugiego obrazu?"
   ]
  },
  {
   "cell_type": "code",
   "execution_count": null,
   "metadata": {
    "collapsed": false,
    "jupyter": {
     "outputs_hidden": false
    },
    "pycharm": {
     "name": "#%% Zadanie 4 - wyszukiwanie wzorca\n"
    }
   },
   "outputs": [],
   "source": [
    "if not os.path.exists(\"literki.bmp\") :\n",
    "    !wget https://raw.githubusercontent.com/vision-agh/poc_sw/master/08_Fourier/literki.bmp --no-check-certificate\n",
    "\n",
    "literki = cv2.imread('literki.bmp', cv2.IMREAD_GRAYSCALE)\n",
    "\n",
    "if not os.path.exists(\"wzorA.bmp\") :\n",
    "    !wget https://raw.githubusercontent.com/vision-agh/poc_sw/master/08_Fourier/wzorA.bmp --no-check-certificate\n",
    "\n",
    "wzorA = cv2.imread('wzorA.bmp', cv2.IMREAD_GRAYSCALE)\n",
    "\n",
    "\n",
    "\n",
    "literki_dft = cv2.dft(np.float32(literki), flags = cv2.DFT_COMPLEX_OUTPUT)\n",
    "wzorA_rot = np.rot90(wzorA,2)\n",
    "\n",
    "lX, lY =literki.shape\n",
    "wX, wY = wzorA.shape\n",
    "\n",
    "diffX= lX - wX\n",
    "diffY= lY - wY\n",
    "\n",
    "img= cv2.copyMakeBorder(wzorA_rot, 0, diffX, 0, diffY, cv2.BORDER_CONSTANT, value=0)\n",
    "wzorA_dft=cv2.dft(np.float32(img), flags = cv2.DFT_COMPLEX_OUTPUT)\n",
    "\n",
    "\n",
    "complex1= np.fft.fftshift(wzorA_dft[:, :, 0]) + np.fft.fftshift(wzorA_dft[:, :, 1]) * 1j\n",
    "complex2= np.fft.fftshift(literki_dft[:, :, 0]) + np.fft.fftshift(literki_dft[:, :, 1]) * 1j\n",
    "\n",
    "complex12 = complex1*complex2\n",
    "CompMat = cv2.merge([np.real(complex12), np.imag(complex12)])\n",
    "image=cv2.idft(CompMat, flags=cv2.DFT_COMPLEX_INPUT)\n",
    "image= abs(image)\n",
    "img_back = cv2.magnitude(image[:,:,0],image[:,:,1])\n",
    "result=cv2.morphologyEx(img_back, cv2.MORPH_TOPHAT, np.ones((3, 3), np.uint8))\n",
    "\n",
    "f, tab= plt.subplots(1,2,figsize=(15,15))\n",
    "tab[0].imshow(literki)\n",
    "tab[1].imshow(result)"
   ]
  },
  {
   "cell_type": "code",
   "execution_count": null,
   "metadata": {},
   "outputs": [],
   "source": []
  }
 ],
 "metadata": {
  "kernelspec": {
   "display_name": "Python 3",
   "language": "python",
   "name": "python3"
  },
  "language_info": {
   "codemirror_mode": {
    "name": "ipython",
    "version": 3
   },
   "file_extension": ".py",
   "mimetype": "text/x-python",
   "name": "python",
   "nbconvert_exporter": "python",
   "pygments_lexer": "ipython3",
   "version": "3.8.3"
  }
 },
 "nbformat": 4,
 "nbformat_minor": 4
}
