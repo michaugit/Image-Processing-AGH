{
 "cells": [
  {
   "cell_type": "markdown",
   "metadata": {},
   "source": [
    "# Instrukcja - Transformacja Hougha\n",
    "\n",
    "### Cel:\n",
    "- zapoznanie z transformacją Hougha dla pojedynczego punktu,\n",
    "- kilku punktów, prostych figur\n",
    "- wykorzystanie transformacji Hougha do detekcji linii prostych na rzeczywistym obrazie\n",
    "- transformacja Hougha w przestrzeni ab\n",
    "\n",
    "### Transformacja Hough'a\n",
    "\n",
    "Transformacja Hougha dla prostych jest metodą detekcji współliniowych punktów. Każda prosta może być jednoznacznie przedstawiona za pomocą dwóch parametrów. Przestrzeń tych parametrów to przestrzeń Hougha. Najczęściej wykorzystywanymi parametrami w tej metodzie są współczynniki ρ,θ\n",
    "\n",
    "opisujące równanie prostej w postaci normalnej:\n",
    "\n",
    "ρ=x⋅cos(θ)+y⋅sin(θ)\n",
    "\n",
    "gdzie: ρ - promień wodzący, θ - kąt pomiędzy ρ a osią OX.\n",
    "\n",
    "Własności transformacji Hougha:\n",
    "- prostej w przestrzeni kartezjańskiej odpowiada punkt w przestrzeni Hougha\n",
    "- pękowi prostych przechdzących przez punkt w przestrzeni kartezjańskiej odpowiada krzywa sinusoidalna w przestrzeni Hougha\n",
    "- punkty leżące na tej samej prostej (w przestrzeni kartezjańskiej) korespondują z sinusoidami przechodzącymi przez wspólny punkt w przestrzeni Hougha.\n",
    "\n",
    "Metoda wyliczania transformacji Hougha składa się z następujących kroków:\n",
    "- przez każdy badany (różny od zera) punkt obrazu prowadzony jest pęk prostych, przechodzących przez ten punkt\n",
    "- każda z tych prostych transformowana jest do przestrzeni Hougha i tworzy tam punkt o współrzędnych ρ,θ\n",
    "- w ten sposób, każdy punkt obrazu pierwotnego (pęk prostych) jest odwzorowany w sinusoidalną krzywą w przestrzeni Hougha\n",
    "\n",
    "Przestrzeń Hougha jest przestrzenią akumulacyjną tzn. punkty sinusoidalnych krzywych, wygenerowanych dla punktów obrazu pierwotnego dodają się w miejscach, w których krzywe te przecinają się. Powstałe w ten sposób (w przestrzeni Hougha) maksima odpowiadają zbiorom punktów, należących do jednej prostej. Współrzędne ρ,θ\n",
    "tego maksimum jednoznacznie określają położenie prostej na obrazie pierwotnym.\n",
    "\n",
    "### Transformacja Hougha dla małej liczby punktów.\n",
    "   1. Uruchom poniższy kod i w pojawiającym się czarnym obrazie kliknij jeden punkt \n",
    "   2. Zamknij edycję przyciskiem w belce okna (obok bazwy Figure 1). Wygenerowany obraz będzie dostępny pod nazwą im."
   ]
  },
  {
   "cell_type": "code",
   "execution_count": null,
   "metadata": {},
   "outputs": [],
   "source": [
    "%matplotlib notebook\n",
    "\n",
    "#%matplotlib inline\n",
    "import matplotlib.pyplot as plt\n",
    "import cv2\n",
    "import numpy as np\n",
    "from skimage.transform import hough_line, hough_line_peaks\n",
    "from matplotlib import cm\n",
    "import math\n",
    "\n",
    "fig, ax = plt.subplots()\n",
    "\n",
    "im = np.zeros((64,64), dtype=np.uint8)\n",
    "\n",
    "\n",
    "ax.imshow(im, cmap=cm.gray )\n",
    "lst=[]\n",
    "def onclick(event):\n",
    "    im[int(event.ydata),int(event.xdata)] = 1\n",
    "    ax.imshow(im, cmap=cm.gray )\n",
    "\n",
    "cid = fig.canvas.mpl_connect('button_press_event', onclick)\n"
   ]
  },
  {
   "cell_type": "markdown",
   "metadata": {},
   "source": [
    "3. Wykonaj transformację Hougha obazu im. Wykorzystaj funkcję *hough_line* z modułu _skimage.transform_. Funkcja zwraca: macierz H (przestrzeń Hougha) oraz dwa wektory theta i rho dla kolejnych \n",
    "4. Wyświetl przestrzeń Hougha za pomocą funkcji _plt.imshow_ (można też wykorzystać poniższą funkcję *show_hough*). Jak \"wygląda\" pojedynczy punkt w przestrzeni Hougha?"
   ]
  },
  {
   "cell_type": "code",
   "execution_count": null,
   "metadata": {},
   "outputs": [],
   "source": [
    "%matplotlib inline\n",
    "import matplotlib.pyplot as plt\n",
    "import cv2\n",
    "import numpy as np\n",
    "from skimage.transform import hough_line, hough_line_peaks\n",
    "from matplotlib import cm\n",
    "import math\n",
    "\n",
    "h, theta, p = hough_line(im)\n",
    "\n",
    "def show_hough(h, image):\n",
    "    # Generating figure 1\n",
    "    fig, axes = plt.subplots(1, 2, figsize=(15, 6))\n",
    "    ax = axes.ravel()\n",
    "\n",
    "    ax[0].imshow(image, cmap=cm.gray)\n",
    "    ax[0].set_title('Input image')\n",
    "    ax[0].set_axis_off()\n",
    "\n",
    "    ax[1].imshow(h, cmap=cm.gray)\n",
    "    ax[1].set_title('Hough transform')\n",
    "    ax[1].set_xlabel('Angles (degrees)')\n",
    "    ax[1].set_ylabel('Distance (pixels)')\n",
    "    ax[1].axis('image')\n",
    "    \n",
    "    plt.tight_layout()\n",
    "    plt.show()    \n",
    "    \n",
    "show_hough(h,im)"
   ]
  },
  {
   "cell_type": "markdown",
   "metadata": {},
   "source": [
    "5. Powtórz punkty 1-4, ale tym razem klinkij dwa punkty. Jak zmienia się przestrzeń Hougha?\n",
    "6. Powtórz punkty 1-4, ale tym razem kliknij kilka punktów starając się aby były współliniowe. Zaobserwuj zmiany w przestrzeni Hougha\n",
    "7. Poeksperymentuj z różnymi układami punktów"
   ]
  },
  {
   "cell_type": "markdown",
   "metadata": {},
   "source": [
    "### Transformata Hougha dla pojedynczego obiektu\n",
    "\n",
    "W tym podpunkcie pokazane zostanie praktycznie wykorzystanie transformaty Hougha - do detekcji prostych na sztucznym rysunku.\n",
    "\n",
    "   1. Wczytaj obraz \"kwadraty.tif\". Wyświetl go.\n",
    "   2. Wykonaj detekcję krawędzi jedną z metod gradientowych. Ważne aby obraz krawędzi był jak najlepszej jakości - co oznacza cienkie (nawet niekoniecznie ciągłe) krawędzie - dla tego przypadku nie powinno być trudne do uzyskania. Wyświetl obraz po detekcji krawędzi.\n",
    "   3. Wykonaj transformatę Hougha obrazu krawędziowego. Wykorzystaj funkcję *hough\\_line*.\n",
    "   4. Wyświetl macierz H. Czy widoczna jest taka liczba maksimów jakiej się spodziewamy?"
   ]
  },
  {
   "cell_type": "code",
   "execution_count": null,
   "metadata": {},
   "outputs": [],
   "source": [
    "%matplotlib inline\n",
    "from scipy import signal\n",
    "\n",
    "kwadraty = cv2.imread('kwadraty.png', cv2.IMREAD_GRAYSCALE)\n",
    "plt.gray()\n",
    "\n",
    "canny_kwadraty = cv2.Canny(kwadraty,250,400,None,3,1)\n",
    "h2, theta2, p2 = hough_line(canny_kwadraty)\n",
    "\n",
    "\n",
    "print(h)\n",
    "\n",
    "\n",
    "plt.imshow(canny_kwadraty)"
   ]
  },
  {
   "cell_type": "code",
   "execution_count": null,
   "metadata": {},
   "outputs": [],
   "source": [
    "show_hough(h2, canny_kwadraty)"
   ]
  },
  {
   "cell_type": "markdown",
   "metadata": {},
   "source": [
    " 5. W module skimage.transform dostępna jest funkcja do automatycznej analizy przestrzeni Hougha - wyszukiwania maksimów - *hough\\_line\\_peaks*. Jako parametry przyjmuje ona wyniki funkcji *hough\\_line* (macierz H, theta i rho). Dodatkowo można podać próg powyżej którego punkt uznawany jest za maksimum (_threshold_ - domyslnie jest to połowa maksimum w przestrzeni H) oraz liczbę poszukiwanych maksimów (*num_peaks*). Funkcja zwraca współrzędne maksimów. Wykorzystaj funkcję *hough\\_line\\_peaks* do znalezienia maksimów odpowiadających krawędziom kwadratów.\n",
    " 6. Wyświetl macierz H używając konstrukcji:"
   ]
  },
  {
   "cell_type": "code",
   "execution_count": null,
   "metadata": {},
   "outputs": [],
   "source": [
    "Hpeaks = hough_line_peaks(h2, theta2, p2)\n",
    "fig,ax = plt.subplots(1)\n",
    "ax.set_aspect('equal')\n",
    "\n",
    "ax.imshow(h2, cmap=cm.gray) # gdzie H jest przestrzenią Hougha"
   ]
  },
  {
   "cell_type": "markdown",
   "metadata": {},
   "source": [
    "Taki zapis pozwoli na dołożenie annotacji (okręgów) w miejscach znalezionych maksimów. Wyrysowanie okręgu w punkcie x, y (o rozmiarze 10, w czerwonym kolorze, bez wypełnienia środka) realizuje wywołanie: \n",
    "\n",
    "**circle = plt.Circle((x, y), 10, color='r', fill=False)**\n",
    "\n",
    "natomiast dołożenie takiego okręgu do obrazu to:\n",
    "\n",
    "**ax.add_patch(circle)**\n",
    "\n",
    "Zaznacz maksima na obrazie wykorzystując rezultat funkcji *hough\\_line\\_peaks* biorąc pod uwagę, że zwraca ona kąty w radianach z przedziału od -pi/2 do pi/2, a rho z przedziału od -r/2 do r/2 gdzie r to pionowy rozmiar przestrzeni Hougha. "
   ]
  },
  {
   "cell_type": "code",
   "execution_count": null,
   "metadata": {},
   "outputs": [],
   "source": [
    "fig,ax = plt.subplots(1,figsize=(10,10))\n",
    "ax.set_aspect('equal')\n",
    "ax.imshow(h2, cmap=cm.gray)\n",
    "\n",
    "rho = h2.shape[0]\n",
    "\n",
    "\n",
    "for angle, dist in zip(Hpeaks[1],Hpeaks[2]):\n",
    "    x = (angle+np.pi/2)*180/np.pi \n",
    "    y = dist+rho//2\n",
    "    circle = plt.Circle((x,y), 10, color='r', fill=False)\n",
    "    ax.add_patch(circle)\n",
    "\n"
   ]
  },
  {
   "cell_type": "markdown",
   "metadata": {},
   "source": [
    "7. Istnieje też możliwość przeprowadzenia transformacji Hougha z użyciem biblioteki OpenCV. W bibliotece znajdują się dwie wersje funkcji wyszukującej linie proste - 'klasyczna' - _HoughLines_ oraz probabilistyczna _HoughLinesP_. Zadna z nich nie zwraca przestrzeni Hougha. Wynikiem działania pierwszej jest lista parametrów prostych (krotki zawierające rho, theta). Druga zwraca krotki 4-ro elementowe ze współrzędnymi końców odcinków wykorzystanych do wylicznia parametrów (czyli znalezienia prostej). \n",
    "8. Wyznacz linie obecne na obrazie za pomocą funkcji _HoughLines_. Wykryte linie wyrysuj na obrazie początkowym (UWAGA: wczytanym bez konwersji na graylevel). Do wyświetlania linii wykorzystaj przykładowy kod:"
   ]
  },
  {
   "cell_type": "code",
   "execution_count": null,
   "metadata": {},
   "outputs": [],
   "source": [
    "img = cv2.imread('kwadraty.png')\n",
    "edges = cv2.Canny(img,250,400,None,3,1)\n",
    "\n",
    "lines = cv2.HoughLines(edges,1,np.pi/180,60)\n",
    "for line in lines:\n",
    "    for rho,theta in line:\n",
    "        a = np.cos(theta)\n",
    "        b = np.sin(theta)\n",
    "        x0 = a*rho\n",
    "        y0 = b*rho\n",
    "        x1 = int(x0 + 1000*(-b))\n",
    "        y1 = int(y0 + 1000*(a))\n",
    "        x2 = int(x0 - 1000*(-b))\n",
    "        y2 = int(y0 - 1000*(a))  \n",
    "\n",
    "        cv2.line(img,(x1,y1),(x2,y2),(0,0,255),2)\n",
    "    \n",
    "plt.imshow(img)"
   ]
  },
  {
   "cell_type": "code",
   "execution_count": null,
   "metadata": {},
   "outputs": [],
   "source": [
    "%matplotlib inline\n"
   ]
  },
  {
   "cell_type": "markdown",
   "metadata": {},
   "source": [
    "9. Wyznacz odcinki obecne na obrazie za pomocą funkcji _HoughLinesP_. Wykryte odcinki wyrysuj na obrazie początkowym (UWAGA: wczytanym bez konwersji na graylevel). "
   ]
  },
  {
   "cell_type": "code",
   "execution_count": null,
   "metadata": {},
   "outputs": [],
   "source": [
    "%matplotlib inline\n",
    "\n",
    "img = cv2.imread('kwadraty.png')\n",
    "edges = cv2.Canny(img,250,400,None,3,1)\n",
    "minLineLength = 100\n",
    "maxLineGap = 10\n",
    "lines = cv2.HoughLinesP(edges,1,np.pi/180,20,minLineLength,maxLineGap)\n",
    "for line in lines:\n",
    "    for x1,y1,x2,y2 in line:\n",
    "        cv2.line(img,(x1,y1),(x2,y2),(0,255,0),2)\n",
    "    \n",
    "    \n",
    "plt.imshow(img)"
   ]
  },
  {
   "cell_type": "markdown",
   "metadata": {},
   "source": [
    "### Transformata Hougha dla obrazu rzeczywistego.\n",
    "\n",
    "Bazując na kodzie stworzonym w punkcie B wyszukamy linie na obrazie rzeczywistym.\n",
    "   1. Wczytaj obraz \"lab112.bmp\". Wyświetl go.\n",
    "   2. Wykorzystując wszystkie poznane techniki przetwarzania obrazów (filtracja, przekształcenia morfologiczne, binaryzację, detekcję krawędzi) wyodrębnij krawędzie samych kwadratów - tak aby były jak najlepszej jakości (cienkie) - jednocześnie eliminując z obrazu zakłócenia.\n",
    "   3. Wykorzystaj funkcje *hough_line* i *hough_line_peaks* do detekcji linii na obrazie, a następnie np. wykorzystując kod z punktu 8 poprzedniego ustępu wyrysuj na oryginalnym obrazie znalezione linie."
   ]
  },
  {
   "cell_type": "code",
   "execution_count": null,
   "metadata": {},
   "outputs": [],
   "source": [
    "%matplotlib inline\n",
    "img = cv2.imread('lab112.png', cv2.IMREAD_GRAYSCALE)\n",
    "org = cv2.imread('lab112.png', cv2.IMREAD_GRAYSCALE)\n",
    "\n",
    "def binaryzacja(img, prog):\n",
    "    bin_image = img >prog\n",
    "    return bin_image.astype(np.int)\n",
    "\n",
    "#binaryzacja\n",
    "img = binaryzacja(img,60)\n",
    "bin_img = img\n",
    "dst = np.zeros(bin_img.shape)\n",
    "img = cv2.normalize(img,dst,0,255,cv2.NORM_MINMAX)\n",
    "img = np.array(img, dtype=np.uint8)\n",
    "\n",
    "\n",
    "\n",
    "img = cv2.dilate(img, np.ones((3,3)), iterations = 4)\n",
    "img = cv2.erode(img, np.ones((3,3)), iterations = 2)\n",
    "\n",
    "#canny\n",
    "edges = cv2.Canny(img,250,400,None,3,1)\n",
    "\n",
    "\n",
    "lines = cv2.HoughLines(edges,1,np.pi/180,60)\n",
    "for line in lines:\n",
    "    for rho,theta in line:\n",
    "        a = np.cos(theta)\n",
    "        b = np.sin(theta)\n",
    "        x0 = a*rho\n",
    "        y0 = b*rho\n",
    "        x1 = int(x0 + 1000*(-b))\n",
    "        y1 = int(y0 + 1000*(a))\n",
    "        x2 = int(x0 - 1000*(-b))\n",
    "        y2 = int(y0 - 1000*(a))  \n",
    "\n",
    "        cv2.line(org,(x1,y1),(x2,y2),(0,0,255),2)\n",
    "    \n",
    "\n",
    "f, tab = plt.subplots(1,3,figsize=(20,20))\n",
    "tab[0].imshow(org)\n",
    "tab[1].imshow(img)\n",
    "tab[2].imshow(edges)\n",
    "tab[0].axis('off')\n",
    "tab[1].axis('off')\n",
    "tab[2].axis('off')\n",
    "\n",
    "# plt.imshow(img)"
   ]
  },
  {
   "cell_type": "markdown",
   "metadata": {},
   "source": [
    "4. Wczytaj obraz \"dom.tif\". Wypróbuj działanie transformacji Hougha na tym obrazie z wykorzystaniem funkcji _cv2.HoughLinesP_  (oczywiście po odpowiednich przekształceniach). Postaraj się tak przygotować obraz z krawędziami i dobrać parametry aby wyrysować na oryginalnym obrazie odcinki obejmujące zarysy domu. Weź pod uwage dodatkowe parametry funkcji, takie jak:   minLineLength, maxLineGap."
   ]
  },
  {
   "cell_type": "code",
   "execution_count": null,
   "metadata": {},
   "outputs": [],
   "source": [
    "%matplotlib inline\n",
    "img = cv2.imread('dom.png')\n",
    "\n",
    "edges = cv2.Canny(img,250,400,None,3,1)\n",
    "\n",
    "\n",
    "\n",
    "minLineLength = 1000\n",
    "maxLineGap = 1\n",
    "lines = cv2.HoughLinesP(edges,1,np.pi/180,10,minLineLength,maxLineGap)\n",
    "for line in lines:\n",
    "    for x1,y1,x2,y2 in line:\n",
    "        cv2.line(img,(x1,y1),(x2,y2),(0,255,0),2)\n",
    "    \n",
    "    \n",
    "f, tab = plt.subplots(1,3,figsize=(20,20))\n",
    "tab[0].imshow(img)\n",
    "tab[1].imshow(edges)\n",
    "tab[2].imshow(edges)\n",
    "tab[0].axis('off')\n",
    "tab[1].axis('off')\n",
    "tab[2].axis('off')\n"
   ]
  },
  {
   "cell_type": "markdown",
   "metadata": {},
   "source": [
    "### Transformata Hougha w przestrzeni ab - Domowe -\n",
    "Przestrzeń ρ,θ nie jest jedyną przestrzenią w której punkt odpowiada parametrom prostej. Np. można spróbować wykorzystać tradycyjne równanie prostej:\n",
    "\n",
    "y=ax+b\n",
    "\n",
    "W tej przestrzeni reprezentacją pęku prostych jest prosta. \n",
    "\n",
    "Zadanie: napisać funkcję, która jako argument przyjmuje obraz (binarny) oraz parametry:\n",
    "\n",
    "- aMin - minimalna wartość parametru a\n",
    "- aMax - maksymalna  wartość parametru a\n",
    "- aSkok - skok parametru a\n",
    "- bMin - minimalna wartość parametru b\n",
    "- bMax  - maksymalna  wartość parametru b\n",
    "- bSkok - skok parametru b\n",
    "Jako wynik ma zwrócić macierz przestrzeni Hougha ab.\n",
    "\n",
    "Uwagi:\n",
    "\n",
    "- zadanie może wyglądać na skomplikowane ale tak na prawdę wymaga tylko starannego przemyślenia\n",
    "- najważniejszy jest problem \"adresowania\" macierzy H. Można do tego wykorzystać dwa wektory A i B ze wszystkimi możliwymi wartościami jakie parametry a i b mogę przyjąć (w podanych zakresach z podanym skokiem). Wówczas indeksy tych wektorów będą współrzędnymi w macierzy H. Do stworzenia wektorów wykorzystaj funkcję _np.arange_\n",
    "- na podstawie rozmiaru wektorów A i B (własność _shape_) należy stworzyć wyzerowaną macierz H (funkcja _np.zeros_) \n",
    "- dla każdego punktu krawędzi na obrazie należy:\n",
    "    - używająć wektora A dla każdej z jego wartości a obliczyć odpowiednią wartość b - indeksy kolejnych wartości a (a_idx) będą jedną z współrzędnych macierzy H, natomiast drugą współrędną mozna uzyskać jako b_idx = np.argmin(abs(B - b)).\n",
    "        - każde a_idx i b_idx wyznaczą punkt w macierzy H, który należy zinkrementować\n",
    "- działanie funkcji należy przetestować na punktach generowanych w 'edytorku' z punktu \"Transformacja Hougha dla małej liczby punktów\". Proponowane parametry funkcji:\n",
    "    - aMin: -5\n",
    "    - aMax:  5\n",
    "    - aSkok: 0.05 \n",
    "    - bMin: -100\n",
    "    - bMax:  100\n",
    "    - bSkok: 1\n",
    "\n",
    "Zastanów się w przypadku jakich prostych reprezentacja ab nie sprawdzi się."
   ]
  },
  {
   "cell_type": "code",
   "execution_count": null,
   "metadata": {},
   "outputs": [],
   "source": [
    "%matplotlib notebook\n",
    "\n",
    "import matplotlib.pyplot as plt\n",
    "import cv2\n",
    "import numpy as np\n",
    "from skimage.transform import hough_line, hough_line_peaks\n",
    "from matplotlib import cm\n",
    "import math\n",
    "\n",
    "fig, ax = plt.subplots()\n",
    "\n",
    "img = np.zeros((64,64), dtype=np.uint8)\n",
    "\n",
    "\n",
    "ax.imshow(img, cmap=cm.gray )\n",
    "lst=[]\n",
    "def onclick(event):\n",
    "    img[int(event.ydata),int(event.xdata)] = 1\n",
    "    ax.imshow(img, cmap=cm.gray )\n",
    "\n",
    "cid = fig.canvas.mpl_connect('button_press_event', onclick)"
   ]
  },
  {
   "cell_type": "code",
   "execution_count": null,
   "metadata": {},
   "outputs": [],
   "source": [
    "%matplotlib inline\n",
    "import matplotlib.pyplot as plt\n",
    "import cv2\n",
    "import numpy as np\n",
    "\n",
    "def hough_fun(image, aMin, aMax, aSkok, bMin, bMax, bSkok):\n",
    "    i=aMin\n",
    "    a = []\n",
    "    while (i <= aMax):\n",
    "        a.append(i)\n",
    "        i += aSkok\n",
    "        \n",
    "    j=bMin\n",
    "    b = []\n",
    "    while (j <= bMax):\n",
    "        b.append(j)\n",
    "        j += bSkok\n",
    "        \n",
    "    aShape = len(a)\n",
    "    bShape = len(b)\n",
    "    \n",
    "    H = np.zeros((aShape,bShape))\n",
    "    Y,X = image.shape\n",
    "    \n",
    "    for x in range (X):\n",
    "        for y in range (Y):\n",
    "            for a_idx in range (aShape):\n",
    "                aa = a[a_idx]\n",
    "                if(image[y,x] == 1):\n",
    "                    b_v = -aa*x + y\n",
    "#                     b_idx = np.argmin(abs(b - b_v))\n",
    "                    b_idx = np.argmin([abs(bs - b_v) for bs in b])\n",
    "                    H[a_idx,b_idx] = H[a_idx, b_idx] + 1\n",
    "    \n",
    "    \n",
    "    return H\n",
    "\n",
    "\n",
    "# img = cv2.imread(\"kropki.png\", cv2.IMREAD_GRAYSCALE)\n",
    "img_h = hough_fun(img, aMin = -5, aMax = 5, aSkok = 0.05, bMin = -100, bMax = 100, bSkok = 1)\n",
    "\n",
    "\n",
    "plt.gray()\n",
    "f, tab = plt.subplots(1,2,figsize=(15,15))\n",
    "tab[0].imshow(img)\n",
    "tab[1].imshow(img_h)\n",
    "tab[0].axis('off')\n",
    "tab[1].axis('off')\n",
    "\n"
   ]
  },
  {
   "cell_type": "code",
   "execution_count": null,
   "metadata": {},
   "outputs": [],
   "source": []
  },
  {
   "cell_type": "code",
   "execution_count": null,
   "metadata": {},
   "outputs": [],
   "source": []
  }
 ],
 "metadata": {
  "celltoolbar": "Raw Cell Format",
  "kernelspec": {
   "display_name": "Python 3",
   "language": "python",
   "name": "python3"
  },
  "language_info": {
   "codemirror_mode": {
    "name": "ipython",
    "version": 3
   },
   "file_extension": ".py",
   "mimetype": "text/x-python",
   "name": "python",
   "nbconvert_exporter": "python",
   "pygments_lexer": "ipython3",
   "version": "3.8.3"
  }
 },
 "nbformat": 4,
 "nbformat_minor": 4
}
